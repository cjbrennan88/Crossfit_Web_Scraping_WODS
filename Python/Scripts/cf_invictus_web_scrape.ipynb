{
 "cells": [
  {
   "cell_type": "code",
   "execution_count": 1,
   "metadata": {},
   "outputs": [
    {
     "ename": "",
     "evalue": "",
     "output_type": "error",
     "traceback": [
      "\u001b[1;31mCannot execute code, session has been disposed. Please try restarting the Kernel."
     ]
    },
    {
     "ename": "",
     "evalue": "",
     "output_type": "error",
     "traceback": [
      "\u001b[1;31mThe Kernel crashed while executing code in the the current cell or a previous cell. Please review the code in the cell(s) to identify a possible cause of the failure. Click <a href='https://aka.ms/vscodeJupyterKernelCrash'>here</a> for more info. View Jupyter <a href='command:jupyter.viewOutput'>log</a> for further details."
     ]
    }
   ],
   "source": [
    "import pandas as pd\n",
    "from datetime import date\n",
    "import requests\n",
    "from bs4 import BeautifulSoup\n",
    "\n",
    "# Create a function to extract data from a URL\n",
    "def extract_data(url):\n",
    "    response = requests.get(url)\n",
    "    if response.status_code == 200:\n",
    "        soup = BeautifulSoup(response.content, \"html.parser\")\n",
    "        extracted_data = soup.select_one(\".entry-content\")\n",
    "        if extracted_data:\n",
    "            return extracted_data.get_text(separator=\"\\n\", strip=True)\n",
    "        else:\n",
    "            print(f\"No data found in {url}\")\n",
    "            return \"No Data\"\n",
    "    else:\n",
    "        print(f\"Failed to retrieve data from {url}\")\n",
    "        return \"No Workout Today\"\n",
    "\n",
    "# Create a function to extract sections from text\n",
    "def extract_section(text, start_marker, end_marker):\n",
    "    start = text.find(start_marker)\n",
    "    if start != -1:\n",
    "        start += len(start_marker)  # Move the start index after the start_marker\n",
    "        if end_marker:\n",
    "            end = text.find(end_marker, start)\n",
    "        else:\n",
    "            end = len(text)\n",
    "        if end != -1:\n",
    "            return text[start:end].strip()\n",
    "        else:\n",
    "            return text[start:].strip()\n",
    "    return ''\n",
    "\n",
    "\n",
    "# Create a DataFrame with dates\n",
    "start = date(2022, 1, 1)\n",
    "end = date(2022, 12, 31)\n",
    "dates = pd.date_range(start, end, freq=\"D\", name='Date').to_frame()\n",
    "dates[\"Month\"] = dates['Date'].dt.strftime('%B')\n",
    "dates[\"Day\"] = dates['Date'].dt.strftime('%-d')\n",
    "dates[\"Year\"] = dates['Date'].dt.strftime('%Y')\n",
    "dates[\"Day_name\"] = dates['Date'].dt.day_name()\n",
    "dates = dates.loc[dates[\"Day_name\"] != 'Sunday'] # no workouts posted on Sundays\n",
    "dates['url'] = 'https://www.crossfitinvictus.com/wod/' + dates.Month + '-' + dates.Day + '-' + dates.Year + '-performance/'\n",
    "\n",
    "# Apply the extract_data function to fetch content from URLs\n",
    "dates['ExtractedData'] = dates['url'].apply(extract_data)\n",
    "\n",
    "# Apply the extract_section function to extract different sections\n",
    "dates[\"Warm_Up\"] = dates['ExtractedData'].apply(lambda x: extract_section(x, \"Warm-Up\", \"A.\"))\n",
    "dates[\"A\"] = dates['ExtractedData'].apply(lambda x: extract_section(x, \"A.\", \"B.\"))\n",
    "dates[\"B\"] = dates['ExtractedData'].apply(lambda x: extract_section(x, \"B.\", \"\"))\n",
    "\n",
    "# Drop the 'ExtractedData' column\n",
    "dates.drop(columns=['ExtractedData'], inplace=True)\n",
    "\n",
    "#export\n",
    "csv_filename = '/Python/data/cf_invictus_WOD_data_2022.csv'\n",
    "dates.to_csv(csv_filename, index=False)"
   ]
  }
 ],
 "metadata": {
  "kernelspec": {
   "display_name": "Python 3",
   "language": "python",
   "name": "python3"
  },
  "language_info": {
   "codemirror_mode": {
    "name": "ipython",
    "version": 3
   },
   "file_extension": ".py",
   "mimetype": "text/x-python",
   "name": "python",
   "nbconvert_exporter": "python",
   "pygments_lexer": "ipython3",
   "version": "3.9.7"
  },
  "orig_nbformat": 4
 },
 "nbformat": 4,
 "nbformat_minor": 2
}
